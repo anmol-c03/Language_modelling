{
 "cells": [
  {
   "cell_type": "code",
   "execution_count": 1,
   "id": "ba3b244c-47e0-499a-973a-c057a16ab936",
   "metadata": {},
   "outputs": [],
   "source": [
    "import torch\n",
    "import torch.nn.functional as F\n",
    "import matplotlib.pyplot as plt"
   ]
  },
  {
   "cell_type": "code",
   "execution_count": 2,
   "id": "c062f2e6-9513-49c7-857f-2abc202d9771",
   "metadata": {},
   "outputs": [],
   "source": [
    "text=open('input.txt','r',encoding='utf-8').read()"
   ]
  },
  {
   "cell_type": "code",
   "execution_count": 3,
   "id": "55b7cacf-8d73-4b06-9f27-370fabcfc06b",
   "metadata": {},
   "outputs": [],
   "source": [
    "ch=sorted(set(text))\n",
    "stoi={s:i for i,s in enumerate(ch)}\n",
    "itos={i:s for s,i in stoi.items()}\n",
    "vocab_size=len(ch)"
   ]
  },
  {
   "cell_type": "code",
   "execution_count": 4,
   "id": "2c8c639e-4ea5-4e55-a684-0f5d490b2d3d",
   "metadata": {},
   "outputs": [
    {
     "data": {
      "text/plain": [
       "1115394"
      ]
     },
     "execution_count": 4,
     "metadata": {},
     "output_type": "execute_result"
    }
   ],
   "source": [
    "len(text)"
   ]
  },
  {
   "cell_type": "code",
   "execution_count": 4,
   "id": "0bd91a98-57e3-4fdc-8f8c-f6d21cc6a6a7",
   "metadata": {},
   "outputs": [
    {
     "name": "stdout",
     "output_type": "stream",
     "text": [
      "\n",
      " !$&',-.3:;?ABCDEFGHIJKLMNOPQRSTUVWXYZabcdefghijklmnopqrstuvwxyz\n",
      "65\n"
     ]
    }
   ],
   "source": [
    "print(''.join(ch))\n",
    "print(vocab_size)"
   ]
  },
  {
   "cell_type": "code",
   "execution_count": 5,
   "id": "2823afce-e7a4-4c70-a0a3-7f597dca5e63",
   "metadata": {},
   "outputs": [],
   "source": [
    "encode= lambda s:torch.tensor(list(stoi[i] for i in s),dtype=torch.long)\n",
    "decode=lambda i:(''.join(itos[s.item()] for s in i))"
   ]
  },
  {
   "cell_type": "code",
   "execution_count": 6,
   "id": "dcc1e030-1493-45e4-89d3-20fc5352d889",
   "metadata": {},
   "outputs": [
    {
     "name": "stdout",
     "output_type": "stream",
     "text": [
      "tensor([ 1, 46, 47,  1, 13, 52, 51, 53, 50])\n",
      " hi Anmol\n"
     ]
    }
   ],
   "source": [
    "print(encode(' hi Anmol'))\n",
    "print(decode(encode(' hi Anmol')))"
   ]
  },
  {
   "cell_type": "code",
   "execution_count": 7,
   "id": "1f6a6aca-21e2-4f87-8aaa-431d68fae0fa",
   "metadata": {},
   "outputs": [
    {
     "data": {
      "text/plain": [
       "(torch.Size([1115394]), torch.int64)"
      ]
     },
     "execution_count": 7,
     "metadata": {},
     "output_type": "execute_result"
    }
   ],
   "source": [
    "data=encode(text)\n",
    "data.shape,data.dtype"
   ]
  },
  {
   "cell_type": "code",
   "execution_count": 8,
   "id": "be7c9cd3-3c49-49a8-994d-52d77b80e0ce",
   "metadata": {},
   "outputs": [],
   "source": [
    "n=int(0.9*len(data))\n",
    "train_data=data[:n]\n",
    "val_data=data[n:]"
   ]
  },
  {
   "cell_type": "code",
   "execution_count": 9,
   "id": "a839706c-e1f3-4921-bef8-a965cd66afee",
   "metadata": {},
   "outputs": [
    {
     "name": "stdout",
     "output_type": "stream",
     "text": [
      "tensor([18, 47, 56, 57, 58,  1, 15, 47, 58])\n",
      "First Cit\n"
     ]
    }
   ],
   "source": [
    "block_size=8\n",
    "x=train_data[:block_size+1]\n",
    "print(x)\n",
    "print(decode(x))"
   ]
  },
  {
   "cell_type": "code",
   "execution_count": 10,
   "id": "4f9ce293-5070-4aa6-8b20-ac2044cd7ae9",
   "metadata": {},
   "outputs": [
    {
     "name": "stdout",
     "output_type": "stream",
     "text": [
      "context is tensor([18]) and target is 47\n",
      "context is F and target is i\n",
      "\n",
      "context is tensor([18, 47]) and target is 56\n",
      "context is Fi and target is r\n",
      "\n",
      "context is tensor([18, 47, 56]) and target is 57\n",
      "context is Fir and target is s\n",
      "\n",
      "context is tensor([18, 47, 56, 57]) and target is 58\n",
      "context is Firs and target is t\n",
      "\n",
      "context is tensor([18, 47, 56, 57, 58]) and target is 1\n",
      "context is First and target is  \n",
      "\n",
      "context is tensor([18, 47, 56, 57, 58,  1]) and target is 15\n",
      "context is First  and target is C\n",
      "\n",
      "context is tensor([18, 47, 56, 57, 58,  1, 15]) and target is 47\n",
      "context is First C and target is i\n",
      "\n",
      "context is tensor([18, 47, 56, 57, 58,  1, 15, 47]) and target is 58\n",
      "context is First Ci and target is t\n",
      "\n"
     ]
    }
   ],
   "source": [
    "x=train_data[:block_size]\n",
    "y=train_data[1:block_size+1]\n",
    "for i in range(block_size):\n",
    "    context=x[:i+1]\n",
    "    target=y[i]\n",
    "    print(f'context is {context} and target is {target}')\n",
    "    print(f'context is {decode(context)} and target is {itos[target.item()]}\\n')\n"
   ]
  },
  {
   "cell_type": "code",
   "execution_count": 11,
   "id": "2bc33460-f754-4aad-9d49-4de72a58d653",
   "metadata": {},
   "outputs": [
    {
     "data": {
      "text/plain": [
       "tensor(47)"
      ]
     },
     "execution_count": 11,
     "metadata": {},
     "output_type": "execute_result"
    }
   ],
   "source": [
    "train_data[1]"
   ]
  },
  {
   "cell_type": "code",
   "execution_count": 12,
   "id": "db46feb0-9a00-465f-beae-eb88cf627165",
   "metadata": {},
   "outputs": [
    {
     "data": {
      "text/plain": [
       "tensor([4, 5, 1, 5, 6, 3, 2, 2, 0, 5])"
      ]
     },
     "execution_count": 12,
     "metadata": {},
     "output_type": "execute_result"
    }
   ],
   "source": [
    "torch.randint(9,(10,))"
   ]
  },
  {
   "cell_type": "markdown",
   "id": "dbf6d53a-7f7e-45c0-aecb-78d3b33adbbc",
   "metadata": {},
   "source": [
    "# torch.stack\n",
    "if we have list of tensor then we cannot use that list as tensor so we have to convert it to tensor \n",
    "\n",
    "if we try to wrap that list in torch.tensor api then it fails because list contains tensor \n",
    "\n",
    "hence to convert it to tensor we use torch .stack\n"
   ]
  },
  {
   "cell_type": "code",
   "execution_count": 22,
   "id": "4f9388a7-93eb-413c-8ce6-69162825f847",
   "metadata": {},
   "outputs": [
    {
     "name": "stdout",
     "output_type": "stream",
     "text": [
      "\t\tcontext\n",
      "torch.Size([4, 8])\n",
      "tensor([[58,  8,  0,  0, 24, 33, 15, 21],\n",
      "        [30, 21, 15, 20, 13, 30, 16,  1],\n",
      "        [ 0, 13, 57,  1, 51, 59, 41, 46],\n",
      "        [51, 43,  8,  1, 28, 56, 53, 41]])\n",
      "\n",
      "\n",
      "\t\ttarget\n",
      "torch.Size([4, 8])\n",
      "tensor([[ 8,  0,  0, 24, 33, 15, 21, 27],\n",
      "        [21, 15, 20, 13, 30, 16,  1, 21],\n",
      "        [13, 57,  1, 51, 59, 41, 46,  1],\n",
      "        [43,  8,  1, 28, 56, 53, 41, 43]])\n"
     ]
    }
   ],
   "source": [
    "torch.manual_seed(1334)\n",
    "block_size=8\n",
    "batch_size=4\n",
    "\n",
    "def get_batch(split):\n",
    "    data=train_data if split =='train' else val_data\n",
    "    ix=torch.randint(len(data)-block_size,(batch_size,))\n",
    "    x=torch.stack([data[i:block_size+i] for i in ix])\n",
    "    y=torch.stack([data[i+1:block_size+i+1] for i in ix])\n",
    "    return x,y\n",
    "\n",
    "xtrain_b,ytrain_b=get_batch('train')\n",
    "print('\\t\\tcontext')\n",
    "print(xtrain_b.shape)\n",
    "print(xtrain_b)\n",
    "print('\\n')\n",
    "\n",
    "print('\\t\\ttarget')\n",
    "print(ytrain_b.shape)\n",
    "print(ytrain_b)\n",
    "\n",
    "xval_b,yval_b=get_batch('val')\n",
    "\n"
   ]
  },
  {
   "cell_type": "code",
   "execution_count": 14,
   "id": "13790a73-bd65-4670-8337-75af45d5f45b",
   "metadata": {},
   "outputs": [
    {
     "name": "stdout",
     "output_type": "stream",
     "text": [
      "context is [58] and target is 8\n",
      "context is [58, 8] and target is 0\n",
      "context is [58, 8, 0] and target is 0\n",
      "context is [58, 8, 0, 0] and target is 24\n",
      "context is [58, 8, 0, 0, 24] and target is 33\n",
      "context is [58, 8, 0, 0, 24, 33] and target is 15\n",
      "context is [58, 8, 0, 0, 24, 33, 15] and target is 21\n",
      "context is [58, 8, 0, 0, 24, 33, 15, 21] and target is 27\n",
      "context is [30] and target is 21\n",
      "context is [30, 21] and target is 15\n",
      "context is [30, 21, 15] and target is 20\n",
      "context is [30, 21, 15, 20] and target is 13\n",
      "context is [30, 21, 15, 20, 13] and target is 30\n",
      "context is [30, 21, 15, 20, 13, 30] and target is 16\n",
      "context is [30, 21, 15, 20, 13, 30, 16] and target is 1\n",
      "context is [30, 21, 15, 20, 13, 30, 16, 1] and target is 21\n",
      "context is [0] and target is 13\n",
      "context is [0, 13] and target is 57\n",
      "context is [0, 13, 57] and target is 1\n",
      "context is [0, 13, 57, 1] and target is 51\n",
      "context is [0, 13, 57, 1, 51] and target is 59\n",
      "context is [0, 13, 57, 1, 51, 59] and target is 41\n",
      "context is [0, 13, 57, 1, 51, 59, 41] and target is 46\n",
      "context is [0, 13, 57, 1, 51, 59, 41, 46] and target is 1\n",
      "context is [51] and target is 43\n",
      "context is [51, 43] and target is 8\n",
      "context is [51, 43, 8] and target is 1\n",
      "context is [51, 43, 8, 1] and target is 28\n",
      "context is [51, 43, 8, 1, 28] and target is 56\n",
      "context is [51, 43, 8, 1, 28, 56] and target is 53\n",
      "context is [51, 43, 8, 1, 28, 56, 53] and target is 41\n",
      "context is [51, 43, 8, 1, 28, 56, 53, 41] and target is 43\n"
     ]
    }
   ],
   "source": [
    "for i in range(batch):\n",
    "    for j in range(block_size):\n",
    "        context=xtrain_b[i][:j+1]\n",
    "        target=ytrain_b[i][j]\n",
    "        print(f'context is {context.tolist()} and target is {target}')\n"
   ]
  },
  {
   "cell_type": "code",
   "execution_count": 26,
   "id": "e03386ae-f4ab-4abc-8b99-6eae930fac79",
   "metadata": {},
   "outputs": [
    {
     "name": "stdout",
     "output_type": "stream",
     "text": [
      "torch.Size([32, 65])\n",
      "tensor(4.5510, grad_fn=<NllLossBackward0>)\n",
      "\n",
      "ZHyiDIj-bDB3b;M$ruByFpk\n",
      "EQOHseLAbn,&LYEkftK.MD3Utd'l&XLRZCyrm?kDk.pKEF!Cs,dx3UG&LJPpuCazNr,\n",
      " p;?Vt.$\n"
     ]
    }
   ],
   "source": [
    "import torch.nn as  nn\n",
    "from torch.nn import functional as f\n",
    "\n",
    "torch.manual_seed(1334)\n",
    "class BigramLanguageModel(nn.Module):\n",
    "    def __init__(self,vocab_size):\n",
    "        super().__init__()\n",
    "        self.embeddingtable=nn.Embedding(vocab_size,vocab_size)\n",
    "\n",
    "\n",
    "    def forward(self,idx,target=None):\n",
    "        \n",
    "        logits=self.embeddingtable(idx)#B,T,C\n",
    "        if target is None:\n",
    "            loss=None\n",
    "        else:\n",
    "            B,T,C=logits.shape\n",
    "            logits=logits.view(B*T,C)\n",
    "            target=target.view(B*T)\n",
    "            loss=F.cross_entropy(logits,target)\n",
    "        \n",
    "        return logits,loss\n",
    "\n",
    "    def generate(self,idx,max_new_tokens):\n",
    "        for i in range(max_new_tokens):\n",
    "            logits,loss=self(idx)\n",
    "            logits=logits[:,-1,:]\n",
    "            prob=F.softmax(logits,dim=1)\n",
    "            idx_next=torch.multinomial(prob,num_samples=1)\n",
    "            idx=torch.cat((idx,idx_next),dim=1)\n",
    "        return idx \n",
    "\n",
    "model=BigramLanguageModel(vocab_size)\n",
    "out,loss=model(xtrain_b,ytrain_b)\n",
    "print(out.shape)\n",
    "print(loss)\n",
    "print(decode(model.generate(torch.zeros((1,1),dtype=torch.long),max_new_tokens=100)[0]))"
   ]
  },
  {
   "cell_type": "code",
   "execution_count": 27,
   "id": "7bcaba43-51a9-466c-bc14-293e1d8081cd",
   "metadata": {},
   "outputs": [],
   "source": [
    "optimizer=torch.optim.AdamW(model.parameters(),lr=1e-3)"
   ]
  },
  {
   "cell_type": "code",
   "execution_count": 35,
   "id": "cc5b1c60-43b6-42e3-be3e-e5507e9ebb7e",
   "metadata": {},
   "outputs": [
    {
     "name": "stdout",
     "output_type": "stream",
     "text": [
      "2.407564401626587\n"
     ]
    }
   ],
   "source": [
    "max_steps=10000\n",
    "batch_size=32\n",
    "for _ in range(max_steps):\n",
    "    xb,yb=get_batch('train')\n",
    "    logits,loss=model.forward(xb,yb)\n",
    "    optimizer.zero_grad(set_to_none=True)\n",
    "    loss.backward()\n",
    "    optimizer.step()\n",
    "print(loss.item())"
   ]
  },
  {
   "cell_type": "code",
   "execution_count": 39,
   "id": "203d96d2-1b8b-4857-a635-7d1fe049544e",
   "metadata": {},
   "outputs": [
    {
     "name": "stdout",
     "output_type": "stream",
     "text": [
      "\n",
      "Yoll r ureend t bocowavell yoknseeat, g bes 'd LESou femomy, dey oveealotha aind wigssio hintrenvere MOnceethe;\n",
      "Faldime d ICO:\n",
      "HE:\n",
      "SII I ssthidimee grupe t touk dessend t therisou shed Sorund hy Ox ho our ch PEYoou. agu! tlor\n",
      "\n",
      "Y thousedieelle ththith wofth. Gour:\n",
      "Fo st, s p\n",
      "We as d that m bishey foug mionde ber.\n",
      "TIZonrar.\n",
      "BRLENGEO'e k glathe\n",
      "Sot, bayoul I wisis BUS:\n",
      "And my l all powep thouray bullesamy theimay lletot Yor, o alldstes, oma thawe uste it LAng siry heakiobin st thar?\n",
      "\n",
      "Whe y.\n",
      "\n",
      "I ingo\n"
     ]
    }
   ],
   "source": [
    "print(decode(model.generate(torch.zeros((1,1),dtype=torch.long),max_new_tokens=500)[0]))"
   ]
  },
  {
   "cell_type": "markdown",
   "id": "3570a362-9970-4878-a18b-0ec5628edf05",
   "metadata": {},
   "source": [
    "# self attention"
   ]
  },
  {
   "cell_type": "code",
   "execution_count": 9,
   "id": "2a0ef899-e915-4d6c-acde-7a932e4cd898",
   "metadata": {},
   "outputs": [],
   "source": [
    "torch.manual_seed(1337)\n",
    "import torch\n",
    "B,T,C=2,4,2\n",
    "x=torch.randn(B,T,C)\n",
    "xbow=torch.zeros(B,T,C)#xbow=torch.zeros_like(x)\n",
    "for b in range(B):\n",
    "    for t in range(T):\n",
    "        xprev=x[b,:t+1]\n",
    "        xbow[b,t]=xprev.mean(0,keepdim=True)"
   ]
  },
  {
   "cell_type": "code",
   "execution_count": 10,
   "id": "b02acd9f-a95f-4cd2-8ea5-a5c396292a9f",
   "metadata": {},
   "outputs": [
    {
     "data": {
      "text/plain": [
       "(tensor([[ 0.1808, -0.0700],\n",
       "         [-0.0894, -0.4926],\n",
       "         [ 0.1490, -0.3199],\n",
       "         [ 0.3504, -0.2238]]),\n",
       " tensor([[ 0.1808, -0.0700],\n",
       "         [-0.3596, -0.9152],\n",
       "         [ 0.6258,  0.0255],\n",
       "         [ 0.9545,  0.0643]]))"
      ]
     },
     "execution_count": 10,
     "metadata": {},
     "output_type": "execute_result"
    }
   ],
   "source": [
    "xbow[0],x[0]"
   ]
  },
  {
   "cell_type": "code",
   "execution_count": 25,
   "id": "cc4db724-d846-4aca-85ce-221649c730f3",
   "metadata": {},
   "outputs": [
    {
     "name": "stdout",
     "output_type": "stream",
     "text": [
      "a= tensor([[1.0000, 0.0000, 0.0000],\n",
      "        [0.5000, 0.5000, 0.0000],\n",
      "        [0.3333, 0.3333, 0.3333]])\n",
      "\n",
      "b= tensor([[5., 5.],\n",
      "        [7., 8.],\n",
      "        [6., 1.]])\n",
      "\n",
      "c= tensor([[5.0000, 5.0000],\n",
      "        [6.0000, 6.5000],\n",
      "        [6.0000, 4.6667]])\n",
      "\n"
     ]
    }
   ],
   "source": [
    "torch.manual_seed(45)\n",
    "a=torch.tril(torch.ones(3,3))\n",
    "a=a/a.sum(1,keepdim=True)\n",
    "b=torch.randint(9,(3,2)).float()\n",
    "c=a@b\n",
    "print(f'a= {a}\\n')\n",
    "print(f'b= {b}\\n')\n",
    "print(f'c= {c}\\n')"
   ]
  },
  {
   "cell_type": "code",
   "execution_count": 33,
   "id": "6693a02c-1ccf-4bba-a30b-e2fe220c60c9",
   "metadata": {},
   "outputs": [],
   "source": [
    "wei=torch.tril(torch.ones(T,T))\n",
    "wei=wei/wei.sum(1,keepdim=True)\n",
    "xbow2=wei@x  "
   ]
  },
  {
   "cell_type": "code",
   "execution_count": 34,
   "id": "49157c02-9507-460e-b51a-4295c468db0a",
   "metadata": {},
   "outputs": [
    {
     "data": {
      "text/plain": [
       "True"
      ]
     },
     "execution_count": 34,
     "metadata": {},
     "output_type": "execute_result"
    }
   ],
   "source": [
    "torch.allclose(xbow,xbow2)"
   ]
  },
  {
   "cell_type": "code",
   "execution_count": 35,
   "id": "d4674ae7-07a3-4b49-a467-8655578b0c41",
   "metadata": {},
   "outputs": [],
   "source": [
    "tril=torch.tril(torch.ones(T,T))\n",
    "wei=torch.zeros(T,T)\n",
    "wei=wei.masked_fill(tril==0,float('-inf'))\n",
    "wei=F.softmax(wei,1)\n",
    "xbow3=wei @ x"
   ]
  },
  {
   "cell_type": "code",
   "execution_count": 37,
   "id": "80f1cb6b-b9fb-4fd6-b965-702811bb7337",
   "metadata": {},
   "outputs": [
    {
     "data": {
      "text/plain": [
       "True"
      ]
     },
     "execution_count": 37,
     "metadata": {},
     "output_type": "execute_result"
    }
   ],
   "source": [
    "torch.allclose(xbow2,xbow3)"
   ]
  },
  {
   "cell_type": "code",
   "execution_count": 41,
   "id": "d1532168-1e29-4044-b07a-5174b304c979",
   "metadata": {},
   "outputs": [
    {
     "data": {
      "text/plain": [
       "tensor([[1., 0., 0., 0.],\n",
       "        [1., 1., 0., 0.],\n",
       "        [1., 1., 1., 0.],\n",
       "        [1., 1., 1., 1.]])"
      ]
     },
     "execution_count": 41,
     "metadata": {},
     "output_type": "execute_result"
    }
   ],
   "source": [
    "tril=torch.tril(torch.ones(T,T))\n",
    "tril"
   ]
  },
  {
   "cell_type": "code",
   "execution_count": 44,
   "id": "8a844d3f-9a30-43e4-97af-4fb0d4fd2a2c",
   "metadata": {},
   "outputs": [
    {
     "data": {
      "text/plain": [
       "tensor([[1.0000, 0.0000, 0.0000, 0.0000],\n",
       "        [0.5000, 0.5000, 0.0000, 0.0000],\n",
       "        [0.3333, 0.3333, 0.3333, 0.0000],\n",
       "        [0.2500, 0.2500, 0.2500, 0.2500]])"
      ]
     },
     "execution_count": 44,
     "metadata": {},
     "output_type": "execute_result"
    }
   ],
   "source": [
    "wei=torch.zeros(T,T)\n",
    "wei=wei.masked_fill(tril==0,float('-inf'))\n",
    "wei=F.softmax(wei,1)\n",
    "wei"
   ]
  },
  {
   "cell_type": "code",
   "execution_count": 51,
   "id": "7576e73c-5da7-4e34-9bdc-c9bc5b6f5ab5",
   "metadata": {},
   "outputs": [],
   "source": [
    "B,T,C=4,8,32\n",
    "x=torch.randn(B,T,C)\n",
    "tril=torch.tril(torch.ones(T,T))\n",
    "wei=torch.zeros(T,T)\n",
    "wei=wei.masked_fill(tril==0,float('-inf'))\n",
    "wei=F.softmax(wei,1)\n",
    "xbow3=wei @ x\n"
   ]
  },
  {
   "cell_type": "code",
   "execution_count": 52,
   "id": "4fcdad0a-6337-48c5-bed7-a6c4a7e8e039",
   "metadata": {},
   "outputs": [
    {
     "data": {
      "text/plain": [
       "tensor([[1., 0., 0., 0., 0., 0., 0., 0.],\n",
       "        [1., 1., 0., 0., 0., 0., 0., 0.],\n",
       "        [1., 1., 1., 0., 0., 0., 0., 0.],\n",
       "        [1., 1., 1., 1., 0., 0., 0., 0.],\n",
       "        [1., 1., 1., 1., 1., 0., 0., 0.],\n",
       "        [1., 1., 1., 1., 1., 1., 0., 0.],\n",
       "        [1., 1., 1., 1., 1., 1., 1., 0.],\n",
       "        [1., 1., 1., 1., 1., 1., 1., 1.]])"
      ]
     },
     "execution_count": 52,
     "metadata": {},
     "output_type": "execute_result"
    }
   ],
   "source": [
    "tril"
   ]
  },
  {
   "cell_type": "code",
   "execution_count": 53,
   "id": "e289a3ae-2ff0-4fae-b6dd-5459ea6e0675",
   "metadata": {},
   "outputs": [
    {
     "data": {
      "text/plain": [
       "tensor([[1.0000, 0.0000, 0.0000, 0.0000, 0.0000, 0.0000, 0.0000, 0.0000],\n",
       "        [0.5000, 0.5000, 0.0000, 0.0000, 0.0000, 0.0000, 0.0000, 0.0000],\n",
       "        [0.3333, 0.3333, 0.3333, 0.0000, 0.0000, 0.0000, 0.0000, 0.0000],\n",
       "        [0.2500, 0.2500, 0.2500, 0.2500, 0.0000, 0.0000, 0.0000, 0.0000],\n",
       "        [0.2000, 0.2000, 0.2000, 0.2000, 0.2000, 0.0000, 0.0000, 0.0000],\n",
       "        [0.1667, 0.1667, 0.1667, 0.1667, 0.1667, 0.1667, 0.0000, 0.0000],\n",
       "        [0.1429, 0.1429, 0.1429, 0.1429, 0.1429, 0.1429, 0.1429, 0.0000],\n",
       "        [0.1250, 0.1250, 0.1250, 0.1250, 0.1250, 0.1250, 0.1250, 0.1250]])"
      ]
     },
     "execution_count": 53,
     "metadata": {},
     "output_type": "execute_result"
    }
   ],
   "source": [
    "wei"
   ]
  },
  {
   "cell_type": "code",
   "execution_count": null,
   "id": "f2a03573-fc9d-4b01-8138-e9e6bfb6d838",
   "metadata": {},
   "outputs": [],
   "source": [
    "import torch.nn as nn\n",
    "from torch.nn import functional as F\n",
    "n_head=16\n",
    "B,T,C=4,8,32\n",
    "query=nn.Linear(C,n_head,bias=False)\n",
    "key=nn.Linear(C,n_head,bias=False)\n",
    "value=nn.Linear(C,n_head,bias=False)\n",
    "q=query(x) #(B,T,H)\n",
    "k=key(x)   #(B,T,H)\n",
    "wei= q @ k.transpose(-2,-1)\n",
    "\n",
    "tril=torch.tril(torch.ones(T,T))\n",
    "wei=wei.masked_fill(tril==0,float('-inf'))\n",
    "wei=F.softmax(wei,1)\n",
    "\n",
    "v=value(x)\n",
    "xbow=wei @ v\n",
    "wei"
   ]
  },
  {
   "cell_type": "code",
   "execution_count": 4,
   "id": "fc731dc0-1819-40b8-8179-9eeaf7567301",
   "metadata": {},
   "outputs": [
    {
     "name": "stdout",
     "output_type": "stream",
     "text": [
      "tensor([[[ 1.0356, -0.6821],\n",
      "         [ 1.2644, -0.4379],\n",
      "         [-2.4376,  0.8240],\n",
      "         [ 0.8788, -0.8962]],\n",
      "\n",
      "        [[ 1.2942,  0.1899],\n",
      "         [ 0.5598,  2.5771],\n",
      "         [ 0.4137,  0.6907],\n",
      "         [-0.7154,  0.2576]]])\n",
      "tensor([[[-0.9912,  1.2821],\n",
      "         [ 1.3425, -0.2810],\n",
      "         [-0.2566, -1.0907],\n",
      "         [-1.0971,  1.0692]],\n",
      "\n",
      "        [[ 0.4258,  0.5840],\n",
      "         [-1.0741,  1.0399],\n",
      "         [ 0.4238, -0.3983],\n",
      "         [-0.8265, -0.3131]]])\n",
      "tensor([[[ 1.0356, -0.6821, -0.9912,  1.2821],\n",
      "         [ 1.2644, -0.4379,  1.3425, -0.2810],\n",
      "         [-2.4376,  0.8240, -0.2566, -1.0907],\n",
      "         [ 0.8788, -0.8962, -1.0971,  1.0692]],\n",
      "\n",
      "        [[ 1.2942,  0.1899,  0.4258,  0.5840],\n",
      "         [ 0.5598,  2.5771, -1.0741,  1.0399],\n",
      "         [ 0.4137,  0.6907,  0.4238, -0.3983],\n",
      "         [-0.7154,  0.2576, -0.8265, -0.3131]]])\n"
     ]
    }
   ],
   "source": [
    "import torch\n",
    "import torch.nn as nn\n",
    "from torch.nn import functional as F\n",
    "\n",
    "a=torch.randn(2,4,2)\n",
    "b=torch.randn(2,4,2)\n",
    "c=torch.cat((a,b),-1)\n",
    "print(a)\n",
    "print(b)\n",
    "print(c)"
   ]
  },
  {
   "cell_type": "code",
   "execution_count": null,
   "id": "fd36850b-fce4-4271-8b33-a53ed84006bc",
   "metadata": {},
   "outputs": [],
   "source": []
  }
 ],
 "metadata": {
  "kernelspec": {
   "display_name": "Python 3 (ipykernel)",
   "language": "python",
   "name": "python3"
  },
  "language_info": {
   "codemirror_mode": {
    "name": "ipython",
    "version": 3
   },
   "file_extension": ".py",
   "mimetype": "text/x-python",
   "name": "python",
   "nbconvert_exporter": "python",
   "pygments_lexer": "ipython3",
   "version": "3.11.2"
  }
 },
 "nbformat": 4,
 "nbformat_minor": 5
}
